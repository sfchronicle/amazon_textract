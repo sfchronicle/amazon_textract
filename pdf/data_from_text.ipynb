{
 "cells": [
  {
   "cell_type": "code",
   "execution_count": 3,
   "metadata": {},
   "outputs": [],
   "source": [
    "\n",
    "import pandas as pd"
   ]
  },
  {
   "cell_type": "code",
   "execution_count": 6,
   "metadata": {},
   "outputs": [],
   "source": [
    "syr =  { \"doc_type\":[\"Written Summary\", # We're going to use doc_type to count how many reports are included in a pdf file\n",
    "                  \"INCIDENT REPORT FORM\",\n",
    "                  'INVESTIGATION REPORT',\n",
    "                  \"Incident Report Form\",\n",
    "                  'Physical Restraint Incident Documentation Form',\n",
    "                  'Restraint Documentation Form'], \n",
    "\n",
    "    'school_name': 'FROM-',\n",
    "\n",
    "    \"incident_date\": [\"Date of restraint\",\n",
    "                      \"DATE/TIME OF INCIDENT\",\n",
    "                      'Date of Incident',\n",
    "                      'Date'],\n",
    "\n",
    "    'incident_time': 'Time',\n",
    "    \"report_date\": \"DATE/TIME INCIDENT REPORT\",\n",
    "    \"time_began\": \"Time began\",\n",
    "    \"time_ended\": \"Time ended\",\n",
    "    'duration': 'Time/Duration of Physical Restraint',\n",
    "\n",
    "    \"restraint_type\": [\"Nature of restraint (describe type of physical restraint used)\",\n",
    "                        'Which restraint was used (Please describe the restraint)'],\n",
    "\n",
    "    \"staff\": [\"Name(s) of staff member(s) adminstering restraint\",\n",
    "            \"NAME OF PERSON GIVING TESTIMONY\",\n",
    "            'Staff involved in the physical restraint',\n",
    "              ],\n",
    "\n",
    "    \"incident_description\": [\"Explain student behavior(s) that prompted physical restraint\",\n",
    "                            'TO THE PRINCIPAL',\n",
    "                            'NARRATIVE'\n",
    "                            ],\n",
    "    'restraint_description': 'Description and location of physical restraint',\n",
    "\n",
    "    'location': 'Description and location of physical restraint',\n",
    "\n",
    "    \"injury\": [\"Note any injuries to student and/or staff that may have occured\",\n",
    "              \"Information known about the resulting injury(ies)\",\n",
    "              'Medical findings (regarding student and staff)',\n",
    "              ] \n",
    "}"
   ]
  },
  {
   "cell_type": "code",
   "execution_count": null,
   "metadata": {},
   "outputs": [],
   "source": [
    "def get_incident_total(district_config,text_fn):\n",
    "  with open(f'{text_fn}') as file:\n",
    "  lines = file.readlines()\n",
    "  lines = [line.rstrip() for line in lines]\n",
    "\n",
    "  clean_lines = []\n",
    "  for line in lines:\n",
    "    line = line.replace('\\x1b[94m','')\n",
    "    line = line.replace('\\x1b[0m','')\n",
    "    clean_lines.append(line)\n",
    "\n",
    "  docs = district_config['syr']['doc_type']\n",
    "  \n",
    "  total = 0\n",
    "  for doc in docs:\n",
    "    total += sum(doc in line for line in clean_lines))\n",
    "  return total\n",
    "\n",
    "\n"
   ]
  }
 ],
 "metadata": {
  "interpreter": {
   "hash": "351c706b02232ec316e852c8817f560858a09d0d87bb636683a9e5d45fee3db2"
  },
  "kernelspec": {
   "display_name": "Python 3.10.0 64-bit ('amazon_textract-sv2S-sSU': pipenv)",
   "name": "python3"
  },
  "language_info": {
   "codemirror_mode": {
    "name": "ipython",
    "version": 3
   },
   "file_extension": ".py",
   "mimetype": "text/x-python",
   "name": "python",
   "nbconvert_exporter": "python",
   "pygments_lexer": "ipython3",
   "version": "3.10.0"
  },
  "orig_nbformat": 4
 },
 "nbformat": 4,
 "nbformat_minor": 2
}
